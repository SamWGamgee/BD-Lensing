{
 "cells": [
  {
   "cell_type": "code",
   "execution_count": 2,
   "id": "5c5b3b3d",
   "metadata": {},
   "outputs": [],
   "source": [
    "import numpy as np\n",
    "import matplotlib.pyplot as plot\n",
    "import math as m"
   ]
  },
  {
   "cell_type": "code",
   "execution_count": 3,
   "id": "047c8647",
   "metadata": {},
   "outputs": [],
   "source": [
    "image = np.zeros((50,50))"
   ]
  },
  {
   "cell_type": "code",
   "execution_count": 4,
   "id": "94f37db8",
   "metadata": {},
   "outputs": [],
   "source": [
    "image[19:29,19:29]=1"
   ]
  },
  {
   "cell_type": "code",
   "execution_count": 8,
   "id": "98927498",
   "metadata": {
    "scrolled": true
   },
   "outputs": [
    {
     "data": {
      "image/png": "[encoded data removed]",
      "text/plain": [
       "<Figure size 288x288 with 1 Axes>"
      ]
     },
     "metadata": {
      "needs_background": "light"
     },
     "output_type": "display_data"
    }
   ],
   "source": [
    "plot.matshow(image)\n",
    "plot.show()"
   ]
  },
  {
   "cell_type": "code",
   "execution_count": 12,
   "id": "11281906",
   "metadata": {},
   "outputs": [
    {
     "name": "stdout",
     "output_type": "stream",
     "text": [
      "5.095930801728114\n"
     ]
    }
   ],
   "source": [
    "sigma = 12/(2*(2*m.log(2))**0.5)\n",
    "print(sigma)"
   ]
  },
  {
   "cell_type": "code",
   "execution_count": 13,
   "id": "a245cc83",
   "metadata": {},
   "outputs": [],
   "source": [
    "rows = image.shape[0]\n",
    "cols = image.shape[1]\n",
    "\n",
    "\n",
    "for x in range(0, rows):\n",
    "    for y in range(0, cols):\n",
    "        image[x,y]=(1/(2*m.pi*sigma**2))*m.exp(-((x-24)**2+(y-24)**2)/(2*(sigma)**2))\n",
    "        "
   ]
  },
  {
   "cell_type": "code",
   "execution_count": 14,
   "id": "952fa33f",
   "metadata": {},
   "outputs": [
    {
     "data": {
      "image/png": "[encoded data removed]",
      "text/plain": [
       "<Figure size 288x288 with 1 Axes>"
      ]
     },
     "metadata": {
      "needs_background": "light"
     },
     "output_type": "display_data"
    }
   ],
   "source": [
    "plot.matshow(image)\n",
    "plot.show()"
   ]
  },
  {
   "cell_type": "code",
   "execution_count": null,
   "id": "25c1a95d",
   "metadata": {},
   "outputs": [],
   "source": []
  }
 ],
 "metadata": {
  "kernelspec": {
   "display_name": "Python 3 (ipykernel)",
   "language": "python",
   "name": "python3"
  },
  "language_info": {
   "codemirror_mode": {
    "name": "ipython",
    "version": 3
   },
   "file_extension": ".py",
   "mimetype": "text/x-python",
   "name": "python",
   "nbconvert_exporter": "python",
   "pygments_lexer": "ipython3",
   "version": "3.9.12"
  }
 },
 "nbformat": 4,
 "nbformat_minor": 5
}
